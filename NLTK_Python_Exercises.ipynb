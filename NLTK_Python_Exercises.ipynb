{
  "nbformat": 4,
  "nbformat_minor": 0,
  "metadata": {
    "kernelspec": {
      "display_name": "Python 3",
      "language": "python",
      "name": "python3"
    },
    "language_info": {
      "codemirror_mode": {
        "name": "ipython",
        "version": 3
      },
      "file_extension": ".py",
      "mimetype": "text/x-python",
      "name": "python",
      "nbconvert_exporter": "python",
      "pygments_lexer": "ipython3",
      "version": "3.7.3"
    },
    "colab": {
      "name": "NLTK Python Exercises.ipynb",
      "provenance": [],
      "collapsed_sections": []
    }
  },
  "cells": [
    {
      "cell_type": "markdown",
      "metadata": {
        "id": "Td4OErTtDy1h"
      },
      "source": [
        "# Lemmatize"
      ]
    },
    {
      "cell_type": "code",
      "metadata": {
        "id": "ZQwZI-xNDy2M"
      },
      "source": [
        "import nltk\n",
        "from nltk.corpus import stopwords\n",
        "from nltk.stem import WordNetLemmatizer\n",
        "from nltk import word_tokenize"
      ],
      "execution_count": null,
      "outputs": []
    },
    {
      "cell_type": "code",
      "metadata": {
        "id": "XehXU9fJDy2S"
      },
      "source": [
        "stopword = stopwords.words('english')\n",
        "wordnet_lemmatizer = WordNetLemmatizer()"
      ],
      "execution_count": null,
      "outputs": []
    },
    {
      "cell_type": "code",
      "metadata": {
        "id": "LXrj_PSxDy2V"
      },
      "source": [
        "text = \"All my cats in a row','When my cat sits down, she looks like a Furby toy!\"\n",
        "word_tokens = nltk.word_tokenize(text)\n",
        "lemmatized_word = [wordnet_lemmatizer.lemmatize(word) for word in word_tokens]"
      ],
      "execution_count": null,
      "outputs": []
    },
    {
      "cell_type": "code",
      "metadata": {
        "id": "hZXgBqalDy2Y",
        "outputId": "b3f2b333-ee74-4901-bb0f-3b6d36b30442"
      },
      "source": [
        "print (lemmatized_word)"
      ],
      "execution_count": null,
      "outputs": [
        {
          "output_type": "stream",
          "text": [
            "['All', 'my', 'cat', 'in', 'a', 'row', \"'\", ',', \"'When\", 'my', 'cat', 'sits', 'down', ',', 'she', 'look', 'like', 'a', 'Furby', 'toy', '!']\n"
          ],
          "name": "stdout"
        }
      ]
    },
    {
      "cell_type": "markdown",
      "metadata": {
        "id": "44EBx2ZNDy2e"
      },
      "source": [
        "# Stop words removal"
      ]
    },
    {
      "cell_type": "code",
      "metadata": {
        "id": "aP7GaeLBDy2f"
      },
      "source": [
        "import nltk\n",
        "from nltk.corpus import stopwords\n",
        "stopword = stopwords.words('english')"
      ],
      "execution_count": null,
      "outputs": []
    },
    {
      "cell_type": "code",
      "metadata": {
        "id": "vjjT6IfiDy2h"
      },
      "source": [
        "text = \"All my cats in a row When my cat sits down she looks like a Furby toy\"\n",
        "word_tokens = nltk.word_tokenize(text)\n",
        "removing_stopwords = [word for word in word_tokens if word not in stopword]"
      ],
      "execution_count": null,
      "outputs": []
    },
    {
      "cell_type": "code",
      "metadata": {
        "id": "Zu_gslJrDy2j",
        "outputId": "815895fe-9aed-44ee-d655-fd995491eb8a"
      },
      "source": [
        "print (removing_stopwords)"
      ],
      "execution_count": null,
      "outputs": [
        {
          "output_type": "stream",
          "text": [
            "['All', 'cats', 'row', 'When', 'cat', 'sits', 'looks', 'like', 'Furby', 'toy']\n"
          ],
          "name": "stdout"
        }
      ]
    },
    {
      "cell_type": "markdown",
      "metadata": {
        "id": "BI_-L3uWDy2n"
      },
      "source": [
        "# Stemming"
      ]
    },
    {
      "cell_type": "code",
      "metadata": {
        "id": "NaC6p1tKDy2p"
      },
      "source": [
        "import nltk\n",
        "from nltk.corpus import stopwords\n",
        "from nltk.stem import SnowballStemmer"
      ],
      "execution_count": null,
      "outputs": []
    },
    {
      "cell_type": "code",
      "metadata": {
        "id": "Shb77IKxDy2r"
      },
      "source": [
        "stopword = stopwords.words('english')\n",
        "snowball_stemmer = SnowballStemmer('english')"
      ],
      "execution_count": null,
      "outputs": []
    },
    {
      "cell_type": "code",
      "metadata": {
        "id": "XArkNTYGDy2t",
        "outputId": "47ca6edd-0e35-4fc2-a561-fed5d3b60e7d"
      },
      "source": [
        "text = \"All my cats in a row When my cat sits down she looks like a Furby toy\"\n",
        "word_tokens = nltk.word_tokenize(text)\n",
        "stemmed_word = [snowball_stemmer.stem(word) for word in word_tokens]\n",
        "print (stemmed_word)"
      ],
      "execution_count": null,
      "outputs": [
        {
          "output_type": "stream",
          "text": [
            "['all', 'my', 'cat', 'in', 'a', 'row', 'when', 'my', 'cat', 'sit', 'down', 'she', 'look', 'like', 'a', 'furbi', 'toy']\n"
          ],
          "name": "stdout"
        }
      ]
    }
  ]
}